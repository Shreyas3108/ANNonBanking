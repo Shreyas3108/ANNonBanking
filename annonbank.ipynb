{
 "cells": [
  {
   "cell_type": "code",
   "execution_count": 1,
   "metadata": {
    "collapsed": true
   },
   "outputs": [],
   "source": [
    "import numpy as np \n",
    "import pandas as pd"
   ]
  },
  {
   "cell_type": "code",
   "execution_count": 3,
   "metadata": {},
   "outputs": [],
   "source": [
    "data = pd.read_csv('Churn_Modelling.csv')"
   ]
  },
  {
   "cell_type": "code",
   "execution_count": 4,
   "metadata": {},
   "outputs": [
    {
     "data": {
      "text/html": [
       "<div>\n",
       "<style>\n",
       "    .dataframe thead tr:only-child th {\n",
       "        text-align: right;\n",
       "    }\n",
       "\n",
       "    .dataframe thead th {\n",
       "        text-align: left;\n",
       "    }\n",
       "\n",
       "    .dataframe tbody tr th {\n",
       "        vertical-align: top;\n",
       "    }\n",
       "</style>\n",
       "<table border=\"1\" class=\"dataframe\">\n",
       "  <thead>\n",
       "    <tr style=\"text-align: right;\">\n",
       "      <th></th>\n",
       "      <th>RowNumber</th>\n",
       "      <th>CustomerId</th>\n",
       "      <th>Surname</th>\n",
       "      <th>CreditScore</th>\n",
       "      <th>Geography</th>\n",
       "      <th>Gender</th>\n",
       "      <th>Age</th>\n",
       "      <th>Tenure</th>\n",
       "      <th>Balance</th>\n",
       "      <th>NumOfProducts</th>\n",
       "      <th>HasCrCard</th>\n",
       "      <th>IsActiveMember</th>\n",
       "      <th>EstimatedSalary</th>\n",
       "      <th>Exited</th>\n",
       "    </tr>\n",
       "  </thead>\n",
       "  <tbody>\n",
       "    <tr>\n",
       "      <th>0</th>\n",
       "      <td>1</td>\n",
       "      <td>15634602</td>\n",
       "      <td>Hargrave</td>\n",
       "      <td>619</td>\n",
       "      <td>France</td>\n",
       "      <td>Female</td>\n",
       "      <td>42</td>\n",
       "      <td>2</td>\n",
       "      <td>0.00</td>\n",
       "      <td>1</td>\n",
       "      <td>1</td>\n",
       "      <td>1</td>\n",
       "      <td>101348.88</td>\n",
       "      <td>1</td>\n",
       "    </tr>\n",
       "    <tr>\n",
       "      <th>1</th>\n",
       "      <td>2</td>\n",
       "      <td>15647311</td>\n",
       "      <td>Hill</td>\n",
       "      <td>608</td>\n",
       "      <td>Spain</td>\n",
       "      <td>Female</td>\n",
       "      <td>41</td>\n",
       "      <td>1</td>\n",
       "      <td>83807.86</td>\n",
       "      <td>1</td>\n",
       "      <td>0</td>\n",
       "      <td>1</td>\n",
       "      <td>112542.58</td>\n",
       "      <td>0</td>\n",
       "    </tr>\n",
       "    <tr>\n",
       "      <th>2</th>\n",
       "      <td>3</td>\n",
       "      <td>15619304</td>\n",
       "      <td>Onio</td>\n",
       "      <td>502</td>\n",
       "      <td>France</td>\n",
       "      <td>Female</td>\n",
       "      <td>42</td>\n",
       "      <td>8</td>\n",
       "      <td>159660.80</td>\n",
       "      <td>3</td>\n",
       "      <td>1</td>\n",
       "      <td>0</td>\n",
       "      <td>113931.57</td>\n",
       "      <td>1</td>\n",
       "    </tr>\n",
       "    <tr>\n",
       "      <th>3</th>\n",
       "      <td>4</td>\n",
       "      <td>15701354</td>\n",
       "      <td>Boni</td>\n",
       "      <td>699</td>\n",
       "      <td>France</td>\n",
       "      <td>Female</td>\n",
       "      <td>39</td>\n",
       "      <td>1</td>\n",
       "      <td>0.00</td>\n",
       "      <td>2</td>\n",
       "      <td>0</td>\n",
       "      <td>0</td>\n",
       "      <td>93826.63</td>\n",
       "      <td>0</td>\n",
       "    </tr>\n",
       "    <tr>\n",
       "      <th>4</th>\n",
       "      <td>5</td>\n",
       "      <td>15737888</td>\n",
       "      <td>Mitchell</td>\n",
       "      <td>850</td>\n",
       "      <td>Spain</td>\n",
       "      <td>Female</td>\n",
       "      <td>43</td>\n",
       "      <td>2</td>\n",
       "      <td>125510.82</td>\n",
       "      <td>1</td>\n",
       "      <td>1</td>\n",
       "      <td>1</td>\n",
       "      <td>79084.10</td>\n",
       "      <td>0</td>\n",
       "    </tr>\n",
       "  </tbody>\n",
       "</table>\n",
       "</div>"
      ],
      "text/plain": [
       "   RowNumber  CustomerId   Surname  CreditScore Geography  Gender  Age  \\\n",
       "0          1    15634602  Hargrave          619    France  Female   42   \n",
       "1          2    15647311      Hill          608     Spain  Female   41   \n",
       "2          3    15619304      Onio          502    France  Female   42   \n",
       "3          4    15701354      Boni          699    France  Female   39   \n",
       "4          5    15737888  Mitchell          850     Spain  Female   43   \n",
       "\n",
       "   Tenure    Balance  NumOfProducts  HasCrCard  IsActiveMember  \\\n",
       "0       2       0.00              1          1               1   \n",
       "1       1   83807.86              1          0               1   \n",
       "2       8  159660.80              3          1               0   \n",
       "3       1       0.00              2          0               0   \n",
       "4       2  125510.82              1          1               1   \n",
       "\n",
       "   EstimatedSalary  Exited  \n",
       "0        101348.88       1  \n",
       "1        112542.58       0  \n",
       "2        113931.57       1  \n",
       "3         93826.63       0  \n",
       "4         79084.10       0  "
      ]
     },
     "execution_count": 4,
     "metadata": {},
     "output_type": "execute_result"
    }
   ],
   "source": [
    "data.head()"
   ]
  },
  {
   "cell_type": "code",
   "execution_count": 6,
   "metadata": {
    "collapsed": true
   },
   "outputs": [],
   "source": [
    "x = data.iloc[:,3:13].values\n",
    "y = data.iloc[:,13].values"
   ]
  },
  {
   "cell_type": "code",
   "execution_count": 7,
   "metadata": {
    "collapsed": true
   },
   "outputs": [],
   "source": [
    "from sklearn.preprocessing import LabelEncoder,OneHotEncoder,StandardScaler"
   ]
  },
  {
   "cell_type": "code",
   "execution_count": 8,
   "metadata": {
    "collapsed": true
   },
   "outputs": [],
   "source": [
    "labelencoder1 = LabelEncoder()\n",
    "labelencoder2 = LabelEncoder()"
   ]
  },
  {
   "cell_type": "code",
   "execution_count": 9,
   "metadata": {
    "collapsed": true
   },
   "outputs": [],
   "source": [
    "x[:, 1] = labelencoder1.fit_transform(x[:, 1])\n",
    "\n",
    "x[:, 2]=labelencoder2.fit_transform(x[:,2])\n",
    "\n",
    "onehotencoder = OneHotEncoder(categorical_features = [1])\n",
    "\n",
    "x = onehotencoder.fit_transform(x).toarray()\n",
    "\n",
    "x = x[:, 1:]"
   ]
  },
  {
   "cell_type": "code",
   "execution_count": 10,
   "metadata": {
    "collapsed": true
   },
   "outputs": [],
   "source": [
    "from sklearn.cross_validation import train_test_split"
   ]
  },
  {
   "cell_type": "code",
   "execution_count": 11,
   "metadata": {
    "collapsed": true
   },
   "outputs": [],
   "source": [
    "x_train,x_test,y_train,y_test = train_test_split(x,y,test_size=0.15,random_state = 2)"
   ]
  },
  {
   "cell_type": "code",
   "execution_count": 12,
   "metadata": {
    "collapsed": true
   },
   "outputs": [],
   "source": [
    "sc = StandardScaler()"
   ]
  },
  {
   "cell_type": "code",
   "execution_count": 13,
   "metadata": {
    "collapsed": true
   },
   "outputs": [],
   "source": [
    "x_train = sc.fit_transform(x_train)\n",
    "x_test = sc.transform(x_test)"
   ]
  },
  {
   "cell_type": "code",
   "execution_count": 14,
   "metadata": {},
   "outputs": [
    {
     "name": "stderr",
     "output_type": "stream",
     "text": [
      "Using TensorFlow backend.\n"
     ]
    }
   ],
   "source": [
    "from keras.models import Sequential\n",
    "from keras.layers import Dense"
   ]
  },
  {
   "cell_type": "code",
   "execution_count": 15,
   "metadata": {
    "collapsed": true
   },
   "outputs": [],
   "source": [
    "classifier = Sequential()"
   ]
  },
  {
   "cell_type": "code",
   "execution_count": 16,
   "metadata": {
    "collapsed": true
   },
   "outputs": [],
   "source": [
    "classifier.add(Dense(units = 6 , kernel_initializer='uniform',activation='relu',input_dim=11))\n",
    "classifier.add(Dense(units = 6 , kernel_initializer='uniform',activation='relu'))\n",
    "classifier.add(Dense(units = 1 , kernel_initializer='uniform',activation='sigmoid'))"
   ]
  },
  {
   "cell_type": "code",
   "execution_count": 17,
   "metadata": {
    "collapsed": true
   },
   "outputs": [],
   "source": [
    "classifier.compile(optimizer='adam',loss='binary_crossentropy',metrics=['accuracy'])"
   ]
  },
  {
   "cell_type": "code",
   "execution_count": 18,
   "metadata": {},
   "outputs": [
    {
     "name": "stdout",
     "output_type": "stream",
     "text": [
      "Epoch 1/100\n",
      "8500/8500 [==============================] - 1s - loss: 0.4873 - acc: 0.7918     \n",
      "Epoch 2/100\n",
      "8500/8500 [==============================] - 1s - loss: 0.4192 - acc: 0.7921     \n",
      "Epoch 3/100\n",
      "8500/8500 [==============================] - 1s - loss: 0.4072 - acc: 0.8149     \n",
      "Epoch 4/100\n",
      "8500/8500 [==============================] - 1s - loss: 0.3961 - acc: 0.8287     \n",
      "Epoch 5/100\n",
      "8500/8500 [==============================] - 1s - loss: 0.3868 - acc: 0.8313     \n",
      "Epoch 6/100\n",
      "8500/8500 [==============================] - 1s - loss: 0.3794 - acc: 0.8419     \n",
      "Epoch 7/100\n",
      "8500/8500 [==============================] - 1s - loss: 0.3727 - acc: 0.8484     \n",
      "Epoch 8/100\n",
      "8500/8500 [==============================] - 1s - loss: 0.3676 - acc: 0.8502     \n",
      "Epoch 9/100\n",
      "8500/8500 [==============================] - 1s - loss: 0.3645 - acc: 0.8525     \n",
      "Epoch 10/100\n",
      "8500/8500 [==============================] - 1s - loss: 0.3619 - acc: 0.8536     \n",
      "Epoch 11/100\n",
      "8500/8500 [==============================] - 1s - loss: 0.3599 - acc: 0.8555     \n",
      "Epoch 12/100\n",
      "8500/8500 [==============================] - 1s - loss: 0.3572 - acc: 0.8567     \n",
      "Epoch 13/100\n",
      "8500/8500 [==============================] - 1s - loss: 0.3575 - acc: 0.8554     \n",
      "Epoch 14/100\n",
      "8500/8500 [==============================] - 1s - loss: 0.3560 - acc: 0.8578     \n",
      "Epoch 15/100\n",
      "8500/8500 [==============================] - 1s - loss: 0.3547 - acc: 0.8572     \n",
      "Epoch 16/100\n",
      "8500/8500 [==============================] - 1s - loss: 0.3539 - acc: 0.8562     \n",
      "Epoch 17/100\n",
      "8500/8500 [==============================] - 1s - loss: 0.3529 - acc: 0.8587     \n",
      "Epoch 18/100\n",
      "8500/8500 [==============================] - 0s - loss: 0.3521 - acc: 0.8581     \n",
      "Epoch 19/100\n",
      "8500/8500 [==============================] - 1s - loss: 0.3512 - acc: 0.8565     \n",
      "Epoch 20/100\n",
      "8500/8500 [==============================] - 1s - loss: 0.3506 - acc: 0.8595     \n",
      "Epoch 21/100\n",
      "8500/8500 [==============================] - 1s - loss: 0.3501 - acc: 0.8591     \n",
      "Epoch 22/100\n",
      "8500/8500 [==============================] - 1s - loss: 0.3504 - acc: 0.8576     \n",
      "Epoch 23/100\n",
      "8500/8500 [==============================] - 1s - loss: 0.3496 - acc: 0.8584     \n",
      "Epoch 24/100\n",
      "8500/8500 [==============================] - 1s - loss: 0.3500 - acc: 0.8585     \n",
      "Epoch 25/100\n",
      "8500/8500 [==============================] - 1s - loss: 0.3492 - acc: 0.8588     \n",
      "Epoch 26/100\n",
      "8500/8500 [==============================] - 1s - loss: 0.3487 - acc: 0.8574     \n",
      "Epoch 27/100\n",
      "8500/8500 [==============================] - 1s - loss: 0.3487 - acc: 0.8569     \n",
      "Epoch 28/100\n",
      "8500/8500 [==============================] - 1s - loss: 0.3486 - acc: 0.8586     \n",
      "Epoch 29/100\n",
      "8500/8500 [==============================] - 1s - loss: 0.3471 - acc: 0.8600     \n",
      "Epoch 30/100\n",
      "8500/8500 [==============================] - 1s - loss: 0.3478 - acc: 0.8581     \n",
      "Epoch 31/100\n",
      "8500/8500 [==============================] - 1s - loss: 0.3473 - acc: 0.8581     \n",
      "Epoch 32/100\n",
      "8500/8500 [==============================] - 1s - loss: 0.3478 - acc: 0.8608     \n",
      "Epoch 33/100\n",
      "8500/8500 [==============================] - 1s - loss: 0.3475 - acc: 0.8585     \n",
      "Epoch 34/100\n",
      "8500/8500 [==============================] - 1s - loss: 0.3473 - acc: 0.8579     - ETA: 1s - loss: 0\n",
      "Epoch 35/100\n",
      "8500/8500 [==============================] - 1s - loss: 0.3475 - acc: 0.8584     \n",
      "Epoch 36/100\n",
      "8500/8500 [==============================] - 1s - loss: 0.3466 - acc: 0.8600     \n",
      "Epoch 37/100\n",
      "8500/8500 [==============================] - 1s - loss: 0.3465 - acc: 0.8602     \n",
      "Epoch 38/100\n",
      "8500/8500 [==============================] - 1s - loss: 0.3464 - acc: 0.8580     \n",
      "Epoch 39/100\n",
      "8500/8500 [==============================] - 1s - loss: 0.3454 - acc: 0.8595     \n",
      "Epoch 40/100\n",
      "8500/8500 [==============================] - 1s - loss: 0.3464 - acc: 0.8584     \n",
      "Epoch 41/100\n",
      "8500/8500 [==============================] - 1s - loss: 0.3466 - acc: 0.8581     \n",
      "Epoch 42/100\n",
      "8500/8500 [==============================] - 1s - loss: 0.3454 - acc: 0.8625     \n",
      "Epoch 43/100\n",
      "8500/8500 [==============================] - 1s - loss: 0.3462 - acc: 0.8585     \n",
      "Epoch 44/100\n",
      "8500/8500 [==============================] - 1s - loss: 0.3457 - acc: 0.8588     \n",
      "Epoch 45/100\n",
      "8500/8500 [==============================] - 1s - loss: 0.3461 - acc: 0.8611     \n",
      "Epoch 46/100\n",
      "8500/8500 [==============================] - 1s - loss: 0.3456 - acc: 0.8591     \n",
      "Epoch 47/100\n",
      "8500/8500 [==============================] - 1s - loss: 0.3454 - acc: 0.8601     \n",
      "Epoch 48/100\n",
      "8500/8500 [==============================] - 1s - loss: 0.3463 - acc: 0.8589     \n",
      "Epoch 49/100\n",
      "8500/8500 [==============================] - 1s - loss: 0.3456 - acc: 0.8579     \n",
      "Epoch 50/100\n",
      "8500/8500 [==============================] - 1s - loss: 0.3459 - acc: 0.8609     \n",
      "Epoch 51/100\n",
      "8500/8500 [==============================] - 1s - loss: 0.3459 - acc: 0.8591     \n",
      "Epoch 52/100\n",
      "8500/8500 [==============================] - 1s - loss: 0.3446 - acc: 0.8604     \n",
      "Epoch 53/100\n",
      "8500/8500 [==============================] - 1s - loss: 0.3459 - acc: 0.8586     \n",
      "Epoch 54/100\n",
      "8500/8500 [==============================] - 1s - loss: 0.3457 - acc: 0.8605     \n",
      "Epoch 55/100\n",
      "8500/8500 [==============================] - 1s - loss: 0.3454 - acc: 0.8595     \n",
      "Epoch 56/100\n",
      "8500/8500 [==============================] - 1s - loss: 0.3448 - acc: 0.8575     \n",
      "Epoch 57/100\n",
      "8500/8500 [==============================] - 1s - loss: 0.3450 - acc: 0.8589     \n",
      "Epoch 58/100\n",
      "8500/8500 [==============================] - 1s - loss: 0.3444 - acc: 0.8608     \n",
      "Epoch 59/100\n",
      "8500/8500 [==============================] - 1s - loss: 0.3455 - acc: 0.8575     \n",
      "Epoch 60/100\n",
      "8500/8500 [==============================] - 1s - loss: 0.3455 - acc: 0.8595     \n",
      "Epoch 61/100\n",
      "8500/8500 [==============================] - 1s - loss: 0.3441 - acc: 0.8575     \n",
      "Epoch 62/100\n",
      "8500/8500 [==============================] - 1s - loss: 0.3445 - acc: 0.8601     \n",
      "Epoch 63/100\n",
      "8500/8500 [==============================] - 1s - loss: 0.3444 - acc: 0.8582     \n",
      "Epoch 64/100\n",
      "8500/8500 [==============================] - 1s - loss: 0.3453 - acc: 0.8613     \n",
      "Epoch 65/100\n",
      "8500/8500 [==============================] - 1s - loss: 0.3448 - acc: 0.8600     \n",
      "Epoch 66/100\n",
      "8500/8500 [==============================] - 1s - loss: 0.3450 - acc: 0.8594     \n",
      "Epoch 67/100\n",
      "8500/8500 [==============================] - 1s - loss: 0.3443 - acc: 0.8615     \n",
      "Epoch 68/100\n",
      "8500/8500 [==============================] - 1s - loss: 0.3449 - acc: 0.8616     \n",
      "Epoch 69/100\n",
      "8500/8500 [==============================] - 1s - loss: 0.3448 - acc: 0.8581     \n",
      "Epoch 70/100\n",
      "8500/8500 [==============================] - 1s - loss: 0.3436 - acc: 0.8595     \n",
      "Epoch 71/100\n",
      "8500/8500 [==============================] - 1s - loss: 0.3438 - acc: 0.8606     \n",
      "Epoch 72/100\n",
      "8500/8500 [==============================] - 1s - loss: 0.3444 - acc: 0.8585     \n",
      "Epoch 73/100\n",
      "8500/8500 [==============================] - 1s - loss: 0.3438 - acc: 0.8606     \n",
      "Epoch 74/100\n",
      "8500/8500 [==============================] - 1s - loss: 0.3443 - acc: 0.8593     \n",
      "Epoch 75/100\n",
      "8500/8500 [==============================] - 1s - loss: 0.3434 - acc: 0.8586     \n",
      "Epoch 76/100\n",
      "8500/8500 [==============================] - 1s - loss: 0.3433 - acc: 0.8586     \n",
      "Epoch 77/100\n",
      "8500/8500 [==============================] - 1s - loss: 0.3450 - acc: 0.8607     \n",
      "Epoch 78/100\n",
      "8500/8500 [==============================] - 1s - loss: 0.3441 - acc: 0.8599     \n",
      "Epoch 79/100\n",
      "8500/8500 [==============================] - 1s - loss: 0.3448 - acc: 0.8578     \n",
      "Epoch 80/100\n",
      "8500/8500 [==============================] - 1s - loss: 0.3439 - acc: 0.8598     \n",
      "Epoch 81/100\n",
      "8500/8500 [==============================] - 1s - loss: 0.3443 - acc: 0.8592     \n",
      "Epoch 82/100\n",
      "8500/8500 [==============================] - 1s - loss: 0.3440 - acc: 0.8594     \n",
      "Epoch 83/100\n",
      "8500/8500 [==============================] - 1s - loss: 0.3444 - acc: 0.8572     \n",
      "Epoch 84/100\n",
      "8500/8500 [==============================] - 1s - loss: 0.3440 - acc: 0.8587     \n",
      "Epoch 85/100\n",
      "8500/8500 [==============================] - 1s - loss: 0.3441 - acc: 0.8598     \n",
      "Epoch 86/100\n",
      "8500/8500 [==============================] - 1s - loss: 0.3430 - acc: 0.8613     \n",
      "Epoch 87/100\n"
     ]
    },
    {
     "name": "stdout",
     "output_type": "stream",
     "text": [
      "8500/8500 [==============================] - 1s - loss: 0.3428 - acc: 0.8601     \n",
      "Epoch 88/100\n",
      "8500/8500 [==============================] - 1s - loss: 0.3437 - acc: 0.8585     \n",
      "Epoch 89/100\n",
      "8500/8500 [==============================] - 1s - loss: 0.3440 - acc: 0.8551     \n",
      "Epoch 90/100\n",
      "8500/8500 [==============================] - 1s - loss: 0.3432 - acc: 0.8606     \n",
      "Epoch 91/100\n",
      "8500/8500 [==============================] - 1s - loss: 0.3434 - acc: 0.8554     \n",
      "Epoch 92/100\n",
      "8500/8500 [==============================] - 1s - loss: 0.3437 - acc: 0.8600     \n",
      "Epoch 93/100\n",
      "8500/8500 [==============================] - 1s - loss: 0.3432 - acc: 0.8618     \n",
      "Epoch 94/100\n",
      "8500/8500 [==============================] - 1s - loss: 0.3428 - acc: 0.8596     \n",
      "Epoch 95/100\n",
      "8500/8500 [==============================] - 1s - loss: 0.3435 - acc: 0.8594     \n",
      "Epoch 96/100\n",
      "8500/8500 [==============================] - 1s - loss: 0.3438 - acc: 0.8593     \n",
      "Epoch 97/100\n",
      "8500/8500 [==============================] - 1s - loss: 0.3431 - acc: 0.8582     \n",
      "Epoch 98/100\n",
      "8500/8500 [==============================] - 1s - loss: 0.3440 - acc: 0.8576     \n",
      "Epoch 99/100\n",
      "8500/8500 [==============================] - 1s - loss: 0.3429 - acc: 0.8592     \n",
      "Epoch 100/100\n",
      "8500/8500 [==============================] - 1s - loss: 0.3436 - acc: 0.8581     \n"
     ]
    },
    {
     "data": {
      "text/plain": [
       "<keras.callbacks.History at 0x251b8469588>"
      ]
     },
     "execution_count": 18,
     "metadata": {},
     "output_type": "execute_result"
    }
   ],
   "source": [
    "classifier.fit(x_train,y_train,batch_size = 10,epochs=100)"
   ]
  },
  {
   "cell_type": "code",
   "execution_count": 19,
   "metadata": {
    "collapsed": true
   },
   "outputs": [],
   "source": [
    "y_pred = classifier.predict(x_test)"
   ]
  },
  {
   "cell_type": "code",
   "execution_count": 20,
   "metadata": {},
   "outputs": [
    {
     "data": {
      "text/plain": [
       "array([[ 0.19098674],\n",
       "       [ 0.42748228],\n",
       "       [ 0.27041173],\n",
       "       ..., \n",
       "       [ 0.2819961 ],\n",
       "       [ 0.03313076],\n",
       "       [ 0.12841523]], dtype=float32)"
      ]
     },
     "execution_count": 20,
     "metadata": {},
     "output_type": "execute_result"
    }
   ],
   "source": [
    "y_pred"
   ]
  },
  {
   "cell_type": "code",
   "execution_count": 21,
   "metadata": {
    "collapsed": true
   },
   "outputs": [],
   "source": [
    "y_predstat = y_pred>0.5"
   ]
  },
  {
   "cell_type": "code",
   "execution_count": 22,
   "metadata": {
    "collapsed": true
   },
   "outputs": [],
   "source": [
    "from sklearn.metrics import confusion_matrix,accuracy_score"
   ]
  },
  {
   "cell_type": "code",
   "execution_count": 24,
   "metadata": {},
   "outputs": [
    {
     "data": {
      "text/plain": [
       "array([[1202,   28],\n",
       "       [ 179,   91]])"
      ]
     },
     "execution_count": 24,
     "metadata": {},
     "output_type": "execute_result"
    }
   ],
   "source": [
    "confusion_matrix(y_test,y_predstat)"
   ]
  },
  {
   "cell_type": "code",
   "execution_count": 27,
   "metadata": {},
   "outputs": [
    {
     "data": {
      "text/plain": [
       "86.200000000000003"
      ]
     },
     "execution_count": 27,
     "metadata": {},
     "output_type": "execute_result"
    }
   ],
   "source": [
    "accuracy_score(y_test,y_predstat)*100"
   ]
  },
  {
   "cell_type": "code",
   "execution_count": null,
   "metadata": {
    "collapsed": true
   },
   "outputs": [],
   "source": []
  }
 ],
 "metadata": {
  "kernelspec": {
   "display_name": "Python 3",
   "language": "python",
   "name": "python3"
  },
  "language_info": {
   "codemirror_mode": {
    "name": "ipython",
    "version": 3
   },
   "file_extension": ".py",
   "mimetype": "text/x-python",
   "name": "python",
   "nbconvert_exporter": "python",
   "pygments_lexer": "ipython3",
   "version": "3.6.1"
  }
 },
 "nbformat": 4,
 "nbformat_minor": 2
}
